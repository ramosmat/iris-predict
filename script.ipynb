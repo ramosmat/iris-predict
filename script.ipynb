{
 "cells": [
  {
   "cell_type": "code",
   "execution_count": null,
   "metadata": {},
   "outputs": [],
   "source": [
    "pip install seaborn"
   ]
  },
  {
   "cell_type": "markdown",
   "metadata": {},
   "source": [
    "Coding a Predict model to predict Iris plants into three species"
   ]
  },
  {
   "cell_type": "code",
   "execution_count": 19,
   "metadata": {},
   "outputs": [],
   "source": [
    "# Importing necessary libraries\n",
    "import pandas as pd\n",
    "import numpy as np\n",
    "import seaborn as sns\n",
    "from sklearn.model_selection import train_test_split\n",
    "from sklearn.neighbors import KNeighborsClassifier\n",
    "from sklearn.tree import DecisionTreeClassifier\n",
    "from sklearn.metrics import accuracy_score\n",
    "from sklearn.metrics import confusion_matrix"
   ]
  },
  {
   "cell_type": "code",
   "execution_count": null,
   "metadata": {},
   "outputs": [],
   "source": [
    "# Importing train dataset and taking a first look at it\n",
    "\n",
    "dataset = pd.read_csv('iris.csv')\n",
    "\n",
    "dataset.info() # There is no column with na values"
   ]
  },
  {
   "cell_type": "code",
   "execution_count": 11,
   "metadata": {},
   "outputs": [
    {
     "name": "stdout",
     "output_type": "stream",
     "text": [
      "   sepal_length  sepal_width  petal_length  petal_width species\n",
      "0           5.1          3.5           1.4          0.2  setosa\n",
      "1           4.9          3.0           1.4          0.2  setosa\n",
      "2           4.7          3.2           1.3          0.2  setosa\n",
      "3           4.6          3.1           1.5          0.2  setosa\n",
      "4           5.0          3.6           1.4          0.2  setosa\n"
     ]
    },
    {
     "data": {
      "text/html": [
       "<div>\n",
       "<style scoped>\n",
       "    .dataframe tbody tr th:only-of-type {\n",
       "        vertical-align: middle;\n",
       "    }\n",
       "\n",
       "    .dataframe tbody tr th {\n",
       "        vertical-align: top;\n",
       "    }\n",
       "\n",
       "    .dataframe thead th {\n",
       "        text-align: right;\n",
       "    }\n",
       "</style>\n",
       "<table border=\"1\" class=\"dataframe\">\n",
       "  <thead>\n",
       "    <tr style=\"text-align: right;\">\n",
       "      <th></th>\n",
       "      <th>sepal_length</th>\n",
       "      <th>sepal_width</th>\n",
       "      <th>petal_length</th>\n",
       "      <th>petal_width</th>\n",
       "    </tr>\n",
       "    <tr>\n",
       "      <th>species</th>\n",
       "      <th></th>\n",
       "      <th></th>\n",
       "      <th></th>\n",
       "      <th></th>\n",
       "    </tr>\n",
       "  </thead>\n",
       "  <tbody>\n",
       "    <tr>\n",
       "      <th>setosa</th>\n",
       "      <td>50</td>\n",
       "      <td>50</td>\n",
       "      <td>50</td>\n",
       "      <td>50</td>\n",
       "    </tr>\n",
       "    <tr>\n",
       "      <th>versicolor</th>\n",
       "      <td>50</td>\n",
       "      <td>50</td>\n",
       "      <td>50</td>\n",
       "      <td>50</td>\n",
       "    </tr>\n",
       "    <tr>\n",
       "      <th>virginica</th>\n",
       "      <td>50</td>\n",
       "      <td>50</td>\n",
       "      <td>50</td>\n",
       "      <td>50</td>\n",
       "    </tr>\n",
       "  </tbody>\n",
       "</table>\n",
       "</div>"
      ],
      "text/plain": [
       "            sepal_length  sepal_width  petal_length  petal_width\n",
       "species                                                         \n",
       "setosa                50           50            50           50\n",
       "versicolor            50           50            50           50\n",
       "virginica             50           50            50           50"
      ]
     },
     "execution_count": 11,
     "metadata": {},
     "output_type": "execute_result"
    }
   ],
   "source": [
    "# Taking a look at the first lines of the dataset\n",
    "# According to Kaggle, the column species is the one that we gonna use to train our predict model\n",
    "print(dataset.head())\n",
    "dataset.groupby(['species']).count()"
   ]
  },
  {
   "cell_type": "code",
   "execution_count": 12,
   "metadata": {},
   "outputs": [],
   "source": [
    "# Removing columns that will not be used for model training, those will be stored as X and y, y beeing the target values\n",
    "X = dataset.drop(['species'], axis=1).values\n",
    "y = dataset['species'].values\n",
    "\n",
    "# Separating dataset into train and test variables. Since it is a small amount of data, we will consider 30% as test size.\n",
    "X_train, X_test, y_train, y_test = train_test_split(X, y, test_size=0.3)"
   ]
  },
  {
   "cell_type": "markdown",
   "metadata": {},
   "source": [
    "Creating an instance of the predicting model. We will do a comparission of three models: KNeighborsClassifier and DecisionTreeClassifier. It will be compared using the Accuracy Score and the Confusion Matrix Method"
   ]
  },
  {
   "cell_type": "markdown",
   "metadata": {},
   "source": [
    "KNeighborsClassifier:"
   ]
  },
  {
   "cell_type": "code",
   "execution_count": 13,
   "metadata": {},
   "outputs": [
    {
     "name": "stdout",
     "output_type": "stream",
     "text": [
      "Best value for n_neighbors: 6\n"
     ]
    }
   ],
   "source": [
    "# Getting the best number of neighbors:\n",
    "from sklearn.model_selection import cross_val_score\n",
    "\n",
    "k_values = range(1, 21)  # Testar n_neighbors de 1 a 20\n",
    "\n",
    "# List to store results\n",
    "scores = []\n",
    "\n",
    "for k in k_values:\n",
    "    knn = KNeighborsClassifier(n_neighbors=k)\n",
    "    # Cross validation with 5 divisions\n",
    "    score = cross_val_score(knn, X, y, cv=5, scoring='accuracy').mean()\n",
    "    scores.append(score)\n",
    "\n",
    "# Find the k value with best performance\n",
    "best_k = k_values[np.argmax(scores)]\n",
    "print(f\"Best value for n_neighbors: {best_k}\") # 6"
   ]
  },
  {
   "cell_type": "code",
   "execution_count": 14,
   "metadata": {},
   "outputs": [],
   "source": [
    "# Creating instance of KNeighborsClassifier\n",
    "knn = KNeighborsClassifier(n_neighbors=6)\n",
    "\n",
    "# Fitting out model using the train variables\n",
    "knn.fit(X_train, y_train)\n",
    "\n",
    "# Predicting our data from the test variables\n",
    "knn_prediction = knn.predict(X_test)"
   ]
  },
  {
   "cell_type": "markdown",
   "metadata": {},
   "source": [
    "DecisionTreeClassifier:"
   ]
  },
  {
   "cell_type": "code",
   "execution_count": 20,
   "metadata": {},
   "outputs": [],
   "source": [
    "# Creating instance of KNeighborsClassifier\n",
    "tree = DecisionTreeClassifier()\n",
    "\n",
    "# Fitting out model using the train variables\n",
    "tree.fit(X_train, y_train)\n",
    "\n",
    "# Predicting our data from the test variables\n",
    "tree_prediction = tree.predict(X_test)"
   ]
  },
  {
   "cell_type": "markdown",
   "metadata": {},
   "source": [
    "Which one was the best model?"
   ]
  },
  {
   "cell_type": "markdown",
   "metadata": {},
   "source": [
    "Accuracy test"
   ]
  },
  {
   "cell_type": "code",
   "execution_count": 21,
   "metadata": {},
   "outputs": [
    {
     "name": "stdout",
     "output_type": "stream",
     "text": [
      "Accuracy for KNeighbors: 93.33%\n",
      "Accuracy for DecisionTree: 95.56%\n"
     ]
    }
   ],
   "source": [
    "# What was the Accuracy?\n",
    "knn_accuracy = accuracy_score(y_test, knn_prediction)\n",
    "tree_accuracy = accuracy_score(y_test, tree_prediction)\n",
    "print(f'Accuracy for KNeighbors: {format(np.round(knn_accuracy * 100, 2))}%')\n",
    "print(f'Accuracy for DecisionTree: {format(np.round(tree_accuracy * 100, 2))}%')"
   ]
  },
  {
   "cell_type": "markdown",
   "metadata": {},
   "source": [
    "Confusion Matrix test"
   ]
  },
  {
   "cell_type": "code",
   "execution_count": 27,
   "metadata": {},
   "outputs": [
    {
     "name": "stdout",
     "output_type": "stream",
     "text": [
      "Accuracy for KNeighbors:\n",
      "[[13  0  0]\n",
      " [ 0 13  1]\n",
      " [ 0  2 16]]\n",
      "Accuracy for DecisionTree:\n",
      "[[13  0  0]\n",
      " [ 0 13  1]\n",
      " [ 0  1 17]]\n"
     ]
    }
   ],
   "source": [
    "# Evaluating KNeighbors using confusion matrix\n",
    "knn_cf_matrix = confusion_matrix(y_test, knn_prediction)\n",
    "\n",
    "# Evaluating DecisionTree using confusion matrix\n",
    "tree_cf_matrix = confusion_matrix(y_test, tree_prediction)\n",
    "\n",
    "print('Accuracy for KNeighbors:')\n",
    "print(knn_cf_matrix)\n",
    "print('Accuracy for DecisionTree:')\n",
    "print(tree_cf_matrix)"
   ]
  },
  {
   "cell_type": "code",
   "execution_count": 31,
   "metadata": {},
   "outputs": [
    {
     "data": {
      "image/png": "[encoded data removed]",
      "text/plain": [
       "<Figure size 640x480 with 2 Axes>"
      ]
     },
     "metadata": {},
     "output_type": "display_data"
    }
   ],
   "source": [
    "# Heatmap of confusion matrix\n",
    "knn_heatmap = sns.heatmap(knn_cf_matrix, cmap='coolwarm', annot=True, linewidth=1, fmt='d')"
   ]
  },
  {
   "cell_type": "code",
   "execution_count": 30,
   "metadata": {},
   "outputs": [
    {
     "data": {
      "image/png": "[encoded data removed]",
      "text/plain": [
       "<Figure size 640x480 with 2 Axes>"
      ]
     },
     "metadata": {},
     "output_type": "display_data"
    }
   ],
   "source": [
    "# Heatmap of confusion matrix\n",
    "tree_heatmap = sns.heatmap(tree_cf_matrix, cmap='coolwarm', annot=True, linewidth=1, fmt='d')"
   ]
  },
  {
   "cell_type": "markdown",
   "metadata": {},
   "source": [
    "We can see that RandomForest was the best model for this dataset.\n",
    "Now lets use the trained model in the test dataset to see whether each passanger will survive."
   ]
  },
  {
   "cell_type": "markdown",
   "metadata": {},
   "source": [
    "Since Kaggle didn't give us a test dataset, lets create one!"
   ]
  },
  {
   "cell_type": "code",
   "execution_count": 32,
   "metadata": {},
   "outputs": [],
   "source": [
    "# Getting max and min of each column\n",
    "sepal_length_max = np.max(dataset['sepal_length'])\n",
    "sepal_length_min = np.min(dataset['sepal_length'])\n",
    "\n",
    "sepal_width_max = np.max(dataset['sepal_width'])\n",
    "sepal_width_min = np.min(dataset['sepal_width'])\n",
    "\n",
    "petal_length_max = np.max(dataset['petal_length'])\n",
    "petal_length_min = np.min(dataset['petal_length'])\n",
    "\n",
    "petal_width_max = np.max(dataset['petal_width'])\n",
    "petal_width_min = np.min(dataset['petal_width'])"
   ]
  },
  {
   "cell_type": "code",
   "execution_count": 33,
   "metadata": {},
   "outputs": [],
   "source": [
    "# Generating random arrays of each column to use as a test dataframe\n",
    "new_sepal_length = np.random.uniform(low=sepal_length_min, high=sepal_length_max, size=len(dataset))\n",
    "new_sepal_width = np.random.uniform(low=sepal_width_min, high=sepal_width_max, size=len(dataset))\n",
    "new_petal_length = np.random.uniform(low=petal_length_min, high=petal_length_max, size=len(dataset))\n",
    "new_petal_width = np.random.uniform(low=petal_width_min, high=petal_width_max, size=len(dataset))"
   ]
  },
  {
   "cell_type": "code",
   "execution_count": 34,
   "metadata": {},
   "outputs": [],
   "source": [
    "# Creating a new DataFrame\n",
    "iris_test = pd.DataFrame()\n",
    "\n",
    "# Adding columns to it\n",
    "iris_test['sepal_length'] = new_sepal_length\n",
    "iris_test['sepal_width'] = new_sepal_width\n",
    "iris_test['petal_length'] = new_petal_length\n",
    "iris_test['petal_width'] = new_petal_width"
   ]
  },
  {
   "cell_type": "code",
   "execution_count": null,
   "metadata": {},
   "outputs": [],
   "source": [
    "# Predicting with KNeighbors previously trained\n",
    "predict = tree.predict(iris_test)"
   ]
  },
  {
   "cell_type": "code",
   "execution_count": 36,
   "metadata": {},
   "outputs": [
    {
     "data": {
      "text/html": [
       "<div>\n",
       "<style scoped>\n",
       "    .dataframe tbody tr th:only-of-type {\n",
       "        vertical-align: middle;\n",
       "    }\n",
       "\n",
       "    .dataframe tbody tr th {\n",
       "        vertical-align: top;\n",
       "    }\n",
       "\n",
       "    .dataframe thead th {\n",
       "        text-align: right;\n",
       "    }\n",
       "</style>\n",
       "<table border=\"1\" class=\"dataframe\">\n",
       "  <thead>\n",
       "    <tr style=\"text-align: right;\">\n",
       "      <th></th>\n",
       "      <th>sepal_length</th>\n",
       "      <th>sepal_width</th>\n",
       "      <th>petal_length</th>\n",
       "      <th>petal_width</th>\n",
       "      <th>prediction</th>\n",
       "    </tr>\n",
       "  </thead>\n",
       "  <tbody>\n",
       "    <tr>\n",
       "      <th>0</th>\n",
       "      <td>4.340296</td>\n",
       "      <td>3.570070</td>\n",
       "      <td>5.659001</td>\n",
       "      <td>1.963580</td>\n",
       "      <td>virginica</td>\n",
       "    </tr>\n",
       "    <tr>\n",
       "      <th>1</th>\n",
       "      <td>5.109276</td>\n",
       "      <td>4.313196</td>\n",
       "      <td>5.115787</td>\n",
       "      <td>0.512078</td>\n",
       "      <td>setosa</td>\n",
       "    </tr>\n",
       "    <tr>\n",
       "      <th>2</th>\n",
       "      <td>7.630488</td>\n",
       "      <td>2.728970</td>\n",
       "      <td>2.529299</td>\n",
       "      <td>1.114750</td>\n",
       "      <td>versicolor</td>\n",
       "    </tr>\n",
       "    <tr>\n",
       "      <th>3</th>\n",
       "      <td>6.221495</td>\n",
       "      <td>3.973853</td>\n",
       "      <td>4.612378</td>\n",
       "      <td>2.350881</td>\n",
       "      <td>versicolor</td>\n",
       "    </tr>\n",
       "    <tr>\n",
       "      <th>4</th>\n",
       "      <td>7.622495</td>\n",
       "      <td>3.529395</td>\n",
       "      <td>1.173290</td>\n",
       "      <td>0.844994</td>\n",
       "      <td>versicolor</td>\n",
       "    </tr>\n",
       "    <tr>\n",
       "      <th>...</th>\n",
       "      <td>...</td>\n",
       "      <td>...</td>\n",
       "      <td>...</td>\n",
       "      <td>...</td>\n",
       "      <td>...</td>\n",
       "    </tr>\n",
       "    <tr>\n",
       "      <th>145</th>\n",
       "      <td>5.628010</td>\n",
       "      <td>3.631210</td>\n",
       "      <td>4.502686</td>\n",
       "      <td>0.528879</td>\n",
       "      <td>setosa</td>\n",
       "    </tr>\n",
       "    <tr>\n",
       "      <th>146</th>\n",
       "      <td>5.404175</td>\n",
       "      <td>2.611873</td>\n",
       "      <td>2.864543</td>\n",
       "      <td>0.432147</td>\n",
       "      <td>setosa</td>\n",
       "    </tr>\n",
       "    <tr>\n",
       "      <th>147</th>\n",
       "      <td>5.155374</td>\n",
       "      <td>2.368718</td>\n",
       "      <td>3.360374</td>\n",
       "      <td>2.119388</td>\n",
       "      <td>virginica</td>\n",
       "    </tr>\n",
       "    <tr>\n",
       "      <th>148</th>\n",
       "      <td>5.865380</td>\n",
       "      <td>2.487985</td>\n",
       "      <td>5.665517</td>\n",
       "      <td>0.406497</td>\n",
       "      <td>setosa</td>\n",
       "    </tr>\n",
       "    <tr>\n",
       "      <th>149</th>\n",
       "      <td>5.408036</td>\n",
       "      <td>3.713565</td>\n",
       "      <td>2.115015</td>\n",
       "      <td>0.727109</td>\n",
       "      <td>setosa</td>\n",
       "    </tr>\n",
       "  </tbody>\n",
       "</table>\n",
       "<p>150 rows × 5 columns</p>\n",
       "</div>"
      ],
      "text/plain": [
       "     sepal_length  sepal_width  petal_length  petal_width  prediction\n",
       "0        4.340296     3.570070      5.659001     1.963580   virginica\n",
       "1        5.109276     4.313196      5.115787     0.512078      setosa\n",
       "2        7.630488     2.728970      2.529299     1.114750  versicolor\n",
       "3        6.221495     3.973853      4.612378     2.350881  versicolor\n",
       "4        7.622495     3.529395      1.173290     0.844994  versicolor\n",
       "..            ...          ...           ...          ...         ...\n",
       "145      5.628010     3.631210      4.502686     0.528879      setosa\n",
       "146      5.404175     2.611873      2.864543     0.432147      setosa\n",
       "147      5.155374     2.368718      3.360374     2.119388   virginica\n",
       "148      5.865380     2.487985      5.665517     0.406497      setosa\n",
       "149      5.408036     3.713565      2.115015     0.727109      setosa\n",
       "\n",
       "[150 rows x 5 columns]"
      ]
     },
     "execution_count": 36,
     "metadata": {},
     "output_type": "execute_result"
    }
   ],
   "source": [
    "# Add the prediction column into the test dataset\n",
    "iris_test['prediction'] = predict\n",
    "iris_test"
   ]
  }
 ],
 "metadata": {
  "kernelspec": {
   "display_name": "Python 3",
   "language": "python",
   "name": "python3"
  },
  "language_info": {
   "codemirror_mode": {
    "name": "ipython",
    "version": 3
   },
   "file_extension": ".py",
   "mimetype": "text/x-python",
   "name": "python",
   "nbconvert_exporter": "python",
   "pygments_lexer": "ipython3",
   "version": "3.10.12"
  }
 },
 "nbformat": 4,
 "nbformat_minor": 2
}
