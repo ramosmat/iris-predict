{
 "cells": [
  {
   "cell_type": "markdown",
   "metadata": {},
   "source": [
    "Coding a Predict model to predict Iris plants into three species"
   ]
  },
  {
   "cell_type": "code",
   "execution_count": 76,
   "metadata": {},
   "outputs": [],
   "source": [
    "# Importing necessary libraries\n",
    "import pandas as pd\n",
    "import numpy as np\n",
    "from sklearn.model_selection import train_test_split\n",
    "from sklearn.neighbors import KNeighborsClassifier\n",
    "from sklearn.metrics import accuracy_score"
   ]
  },
  {
   "cell_type": "code",
   "execution_count": null,
   "metadata": {},
   "outputs": [],
   "source": [
    "# Importing train dataset and taking a first look at it\n",
    "\n",
    "dataset = pd.read_csv('iris.csv')\n",
    "\n",
    "dataset.info() # There is no column with na values"
   ]
  },
  {
   "cell_type": "code",
   "execution_count": 78,
   "metadata": {},
   "outputs": [
    {
     "name": "stdout",
     "output_type": "stream",
     "text": [
      "   sepal_length  sepal_width  petal_length  petal_width species\n",
      "0           5.1          3.5           1.4          0.2  setosa\n",
      "1           4.9          3.0           1.4          0.2  setosa\n",
      "2           4.7          3.2           1.3          0.2  setosa\n",
      "3           4.6          3.1           1.5          0.2  setosa\n",
      "4           5.0          3.6           1.4          0.2  setosa\n"
     ]
    },
    {
     "data": {
      "text/html": [
       "<div>\n",
       "<style scoped>\n",
       "    .dataframe tbody tr th:only-of-type {\n",
       "        vertical-align: middle;\n",
       "    }\n",
       "\n",
       "    .dataframe tbody tr th {\n",
       "        vertical-align: top;\n",
       "    }\n",
       "\n",
       "    .dataframe thead th {\n",
       "        text-align: right;\n",
       "    }\n",
       "</style>\n",
       "<table border=\"1\" class=\"dataframe\">\n",
       "  <thead>\n",
       "    <tr style=\"text-align: right;\">\n",
       "      <th></th>\n",
       "      <th>sepal_length</th>\n",
       "      <th>sepal_width</th>\n",
       "      <th>petal_length</th>\n",
       "      <th>petal_width</th>\n",
       "    </tr>\n",
       "    <tr>\n",
       "      <th>species</th>\n",
       "      <th></th>\n",
       "      <th></th>\n",
       "      <th></th>\n",
       "      <th></th>\n",
       "    </tr>\n",
       "  </thead>\n",
       "  <tbody>\n",
       "    <tr>\n",
       "      <th>setosa</th>\n",
       "      <td>50</td>\n",
       "      <td>50</td>\n",
       "      <td>50</td>\n",
       "      <td>50</td>\n",
       "    </tr>\n",
       "    <tr>\n",
       "      <th>versicolor</th>\n",
       "      <td>50</td>\n",
       "      <td>50</td>\n",
       "      <td>50</td>\n",
       "      <td>50</td>\n",
       "    </tr>\n",
       "    <tr>\n",
       "      <th>virginica</th>\n",
       "      <td>50</td>\n",
       "      <td>50</td>\n",
       "      <td>50</td>\n",
       "      <td>50</td>\n",
       "    </tr>\n",
       "  </tbody>\n",
       "</table>\n",
       "</div>"
      ],
      "text/plain": [
       "            sepal_length  sepal_width  petal_length  petal_width\n",
       "species                                                         \n",
       "setosa                50           50            50           50\n",
       "versicolor            50           50            50           50\n",
       "virginica             50           50            50           50"
      ]
     },
     "execution_count": 78,
     "metadata": {},
     "output_type": "execute_result"
    }
   ],
   "source": [
    "# Taking a look at the first lines of the dataset\n",
    "# According to Kaggle, the column species is the one that we gonna use to train our predict model\n",
    "print(dataset.head())\n",
    "dataset.groupby(['species']).count()"
   ]
  },
  {
   "cell_type": "code",
   "execution_count": 79,
   "metadata": {},
   "outputs": [],
   "source": [
    "# Removing columns that will not be used for model training, those will be stored as X and y, y beeing the target values\n",
    "X = dataset.drop(['species'], axis=1).values\n",
    "y = dataset['species'].values\n",
    "\n",
    "# Separating dataset into train and test variables. Since it is a small amount of data, we will consider 30% as test size.\n",
    "X_train, X_test, y_train, y_test = train_test_split(X, y, test_size=0.3)"
   ]
  },
  {
   "cell_type": "markdown",
   "metadata": {},
   "source": [
    "Creating an instance of the predicting model KNeighborsClassifier."
   ]
  },
  {
   "cell_type": "code",
   "execution_count": 80,
   "metadata": {},
   "outputs": [
    {
     "name": "stdout",
     "output_type": "stream",
     "text": [
      "Best value for n_neighbors: 6\n"
     ]
    }
   ],
   "source": [
    "# Getting the best number of neighbors:\n",
    "from sklearn.model_selection import cross_val_score\n",
    "\n",
    "k_values = range(1, 21)  # Testar n_neighbors de 1 a 20\n",
    "\n",
    "# List to store results\n",
    "scores = []\n",
    "\n",
    "for k in k_values:\n",
    "    knn = KNeighborsClassifier(n_neighbors=k)\n",
    "    # Cross validation with 5 divisions\n",
    "    score = cross_val_score(knn, X, y, cv=5, scoring='accuracy').mean()\n",
    "    scores.append(score)\n",
    "\n",
    "# Find the k value with best performance\n",
    "best_k = k_values[np.argmax(scores)]\n",
    "print(f\"Best value for n_neighbors: {best_k}\") # 6"
   ]
  },
  {
   "cell_type": "code",
   "execution_count": 81,
   "metadata": {},
   "outputs": [],
   "source": [
    "# Creating instance of KNeighborsClassifier\n",
    "knn = KNeighborsClassifier(n_neighbors=6)\n",
    "\n",
    "# Fitting out model using the train variables\n",
    "knn.fit(X_train, y_train)\n",
    "\n",
    "# Predicting our data from the test variables\n",
    "knn_prediction = knn.predict(X_test)"
   ]
  },
  {
   "cell_type": "code",
   "execution_count": 82,
   "metadata": {},
   "outputs": [
    {
     "name": "stdout",
     "output_type": "stream",
     "text": [
      "Accuracy for KNeighbors: 95.56%\n"
     ]
    }
   ],
   "source": [
    "# What was the Accuracy?\n",
    "knn_accuracy = accuracy_score(y_test, knn_prediction)\n",
    "print(f'Accuracy for KNeighbors: {format(np.round(knn_accuracy * 100, 2))}%')"
   ]
  },
  {
   "cell_type": "markdown",
   "metadata": {},
   "source": [
    "We can see that KNeighbors had a 95.56% Accuracy performance! Lets do it on a test dataset"
   ]
  },
  {
   "cell_type": "markdown",
   "metadata": {},
   "source": [
    "Since Kaggle didn't give us a test dataset, lets create one!"
   ]
  },
  {
   "cell_type": "code",
   "execution_count": 83,
   "metadata": {},
   "outputs": [],
   "source": [
    "# Getting max and min of each column\n",
    "sepal_length_max = np.max(dataset['sepal_length'])\n",
    "sepal_length_min = np.min(dataset['sepal_length'])\n",
    "\n",
    "sepal_width_max = np.max(dataset['sepal_width'])\n",
    "sepal_width_min = np.min(dataset['sepal_width'])\n",
    "\n",
    "petal_length_max = np.max(dataset['petal_length'])\n",
    "petal_length_min = np.min(dataset['petal_length'])\n",
    "\n",
    "petal_width_max = np.max(dataset['petal_width'])\n",
    "petal_width_min = np.min(dataset['petal_width'])"
   ]
  },
  {
   "cell_type": "code",
   "execution_count": 84,
   "metadata": {},
   "outputs": [],
   "source": [
    "# Generating random arrays of each column to use as a test dataframe\n",
    "new_sepal_length = np.random.uniform(low=sepal_length_min, high=sepal_length_max, size=len(dataset))\n",
    "new_sepal_width = np.random.uniform(low=sepal_width_min, high=sepal_width_max, size=len(dataset))\n",
    "new_petal_length = np.random.uniform(low=petal_length_min, high=petal_length_max, size=len(dataset))\n",
    "new_petal_width = np.random.uniform(low=petal_width_min, high=petal_width_max, size=len(dataset))"
   ]
  },
  {
   "cell_type": "code",
   "execution_count": 85,
   "metadata": {},
   "outputs": [],
   "source": [
    "# Creating a new DataFrame\n",
    "iris_test = pd.DataFrame()\n",
    "\n",
    "# Adding columns to it\n",
    "iris_test['sepal_length'] = new_sepal_length\n",
    "iris_test['sepal_width'] = new_sepal_width\n",
    "iris_test['petal_length'] = new_petal_length\n",
    "iris_test['petal_width'] = new_petal_width"
   ]
  },
  {
   "cell_type": "code",
   "execution_count": null,
   "metadata": {},
   "outputs": [],
   "source": [
    "# Predicting with KNeighbors previously trained\n",
    "predict = knn.predict(iris_test)"
   ]
  },
  {
   "cell_type": "code",
   "execution_count": 87,
   "metadata": {},
   "outputs": [
    {
     "data": {
      "text/html": [
       "<div>\n",
       "<style scoped>\n",
       "    .dataframe tbody tr th:only-of-type {\n",
       "        vertical-align: middle;\n",
       "    }\n",
       "\n",
       "    .dataframe tbody tr th {\n",
       "        vertical-align: top;\n",
       "    }\n",
       "\n",
       "    .dataframe thead th {\n",
       "        text-align: right;\n",
       "    }\n",
       "</style>\n",
       "<table border=\"1\" class=\"dataframe\">\n",
       "  <thead>\n",
       "    <tr style=\"text-align: right;\">\n",
       "      <th></th>\n",
       "      <th>sepal_length</th>\n",
       "      <th>sepal_width</th>\n",
       "      <th>petal_length</th>\n",
       "      <th>petal_width</th>\n",
       "      <th>prediction</th>\n",
       "    </tr>\n",
       "  </thead>\n",
       "  <tbody>\n",
       "    <tr>\n",
       "      <th>0</th>\n",
       "      <td>5.242118</td>\n",
       "      <td>3.207176</td>\n",
       "      <td>3.846029</td>\n",
       "      <td>1.937121</td>\n",
       "      <td>versicolor</td>\n",
       "    </tr>\n",
       "    <tr>\n",
       "      <th>1</th>\n",
       "      <td>4.338446</td>\n",
       "      <td>4.267189</td>\n",
       "      <td>3.998901</td>\n",
       "      <td>2.300124</td>\n",
       "      <td>versicolor</td>\n",
       "    </tr>\n",
       "    <tr>\n",
       "      <th>2</th>\n",
       "      <td>5.692844</td>\n",
       "      <td>4.209714</td>\n",
       "      <td>1.352423</td>\n",
       "      <td>1.104617</td>\n",
       "      <td>setosa</td>\n",
       "    </tr>\n",
       "    <tr>\n",
       "      <th>3</th>\n",
       "      <td>4.976937</td>\n",
       "      <td>4.000640</td>\n",
       "      <td>1.257103</td>\n",
       "      <td>0.539279</td>\n",
       "      <td>setosa</td>\n",
       "    </tr>\n",
       "    <tr>\n",
       "      <th>4</th>\n",
       "      <td>7.820371</td>\n",
       "      <td>3.332315</td>\n",
       "      <td>4.194216</td>\n",
       "      <td>1.341267</td>\n",
       "      <td>versicolor</td>\n",
       "    </tr>\n",
       "    <tr>\n",
       "      <th>...</th>\n",
       "      <td>...</td>\n",
       "      <td>...</td>\n",
       "      <td>...</td>\n",
       "      <td>...</td>\n",
       "      <td>...</td>\n",
       "    </tr>\n",
       "    <tr>\n",
       "      <th>145</th>\n",
       "      <td>5.369977</td>\n",
       "      <td>2.848395</td>\n",
       "      <td>4.530157</td>\n",
       "      <td>1.084069</td>\n",
       "      <td>versicolor</td>\n",
       "    </tr>\n",
       "    <tr>\n",
       "      <th>146</th>\n",
       "      <td>7.796791</td>\n",
       "      <td>2.021726</td>\n",
       "      <td>6.272152</td>\n",
       "      <td>1.115030</td>\n",
       "      <td>virginica</td>\n",
       "    </tr>\n",
       "    <tr>\n",
       "      <th>147</th>\n",
       "      <td>6.062522</td>\n",
       "      <td>3.999782</td>\n",
       "      <td>1.727949</td>\n",
       "      <td>1.493216</td>\n",
       "      <td>setosa</td>\n",
       "    </tr>\n",
       "    <tr>\n",
       "      <th>148</th>\n",
       "      <td>4.322686</td>\n",
       "      <td>3.075497</td>\n",
       "      <td>3.004296</td>\n",
       "      <td>0.973652</td>\n",
       "      <td>versicolor</td>\n",
       "    </tr>\n",
       "    <tr>\n",
       "      <th>149</th>\n",
       "      <td>6.456021</td>\n",
       "      <td>4.302314</td>\n",
       "      <td>4.681250</td>\n",
       "      <td>0.690247</td>\n",
       "      <td>versicolor</td>\n",
       "    </tr>\n",
       "  </tbody>\n",
       "</table>\n",
       "<p>150 rows × 5 columns</p>\n",
       "</div>"
      ],
      "text/plain": [
       "     sepal_length  sepal_width  petal_length  petal_width  prediction\n",
       "0        5.242118     3.207176      3.846029     1.937121  versicolor\n",
       "1        4.338446     4.267189      3.998901     2.300124  versicolor\n",
       "2        5.692844     4.209714      1.352423     1.104617      setosa\n",
       "3        4.976937     4.000640      1.257103     0.539279      setosa\n",
       "4        7.820371     3.332315      4.194216     1.341267  versicolor\n",
       "..            ...          ...           ...          ...         ...\n",
       "145      5.369977     2.848395      4.530157     1.084069  versicolor\n",
       "146      7.796791     2.021726      6.272152     1.115030   virginica\n",
       "147      6.062522     3.999782      1.727949     1.493216      setosa\n",
       "148      4.322686     3.075497      3.004296     0.973652  versicolor\n",
       "149      6.456021     4.302314      4.681250     0.690247  versicolor\n",
       "\n",
       "[150 rows x 5 columns]"
      ]
     },
     "execution_count": 87,
     "metadata": {},
     "output_type": "execute_result"
    }
   ],
   "source": [
    "# Add the prediction column into the test dataset\n",
    "iris_test['prediction'] = predict\n",
    "iris_test"
   ]
  }
 ],
 "metadata": {
  "kernelspec": {
   "display_name": "Python 3",
   "language": "python",
   "name": "python3"
  },
  "language_info": {
   "codemirror_mode": {
    "name": "ipython",
    "version": 3
   },
   "file_extension": ".py",
   "mimetype": "text/x-python",
   "name": "python",
   "nbconvert_exporter": "python",
   "pygments_lexer": "ipython3",
   "version": "3.10.12"
  }
 },
 "nbformat": 4,
 "nbformat_minor": 2
}
